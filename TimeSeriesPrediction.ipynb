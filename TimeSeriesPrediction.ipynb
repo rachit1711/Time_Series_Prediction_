{
 "cells": [
  {
   "cell_type": "code",
   "execution_count": 1,
   "metadata": {
    "id": "GEYP6tmMo4Ky"
   },
   "outputs": [],
   "source": [
    "import numpy as numpy\n",
    "import pandas as pd\n",
    "import matplotlib.pyplot as plt"
   ]
  },
  {
   "cell_type": "code",
   "execution_count": 2,
   "metadata": {
    "id": "Dysf9NI6py_t"
   },
   "outputs": [],
   "source": [
    "df=pd.read_csv('data.csv')"
   ]
  },
  {
   "cell_type": "code",
   "execution_count": 3,
   "metadata": {
    "colab": {
     "base_uri": "https://localhost:8080/",
     "height": 206
    },
    "id": "8g35BI0Ap1iM",
    "outputId": "7e09999f-fce0-4565-c325-1ef1cb3641a4"
   },
   "outputs": [
    {
     "data": {
      "text/html": [
       "<div>\n",
       "<style scoped>\n",
       "    .dataframe tbody tr th:only-of-type {\n",
       "        vertical-align: middle;\n",
       "    }\n",
       "\n",
       "    .dataframe tbody tr th {\n",
       "        vertical-align: top;\n",
       "    }\n",
       "\n",
       "    .dataframe thead th {\n",
       "        text-align: right;\n",
       "    }\n",
       "</style>\n",
       "<table border=\"1\" class=\"dataframe\">\n",
       "  <thead>\n",
       "    <tr style=\"text-align: right;\">\n",
       "      <th></th>\n",
       "      <th>Unnamed: 0</th>\n",
       "      <th>year</th>\n",
       "      <th>Para-1</th>\n",
       "      <th>Para-2</th>\n",
       "      <th>Para-3</th>\n",
       "      <th>Para-4</th>\n",
       "      <th>Para-5</th>\n",
       "      <th>Para-6</th>\n",
       "      <th>Para-7</th>\n",
       "      <th>Para-8</th>\n",
       "      <th>Para-9</th>\n",
       "      <th>Para-10</th>\n",
       "      <th>Para-11</th>\n",
       "      <th>Para-12</th>\n",
       "      <th>Para-13</th>\n",
       "    </tr>\n",
       "  </thead>\n",
       "  <tbody>\n",
       "    <tr>\n",
       "      <th>0</th>\n",
       "      <td>Sec_1</td>\n",
       "      <td>1</td>\n",
       "      <td>324.0</td>\n",
       "      <td>354.5</td>\n",
       "      <td>17.0</td>\n",
       "      <td>0.0</td>\n",
       "      <td>3</td>\n",
       "      <td>117</td>\n",
       "      <td>2600</td>\n",
       "      <td>400</td>\n",
       "      <td>0.0</td>\n",
       "      <td>0.0</td>\n",
       "      <td>0.0</td>\n",
       "      <td>0</td>\n",
       "      <td>1.52</td>\n",
       "    </tr>\n",
       "    <tr>\n",
       "      <th>1</th>\n",
       "      <td>NaN</td>\n",
       "      <td>2</td>\n",
       "      <td>324.0</td>\n",
       "      <td>161.1</td>\n",
       "      <td>18.2</td>\n",
       "      <td>0.0</td>\n",
       "      <td>4</td>\n",
       "      <td>106</td>\n",
       "      <td>5950</td>\n",
       "      <td>1190</td>\n",
       "      <td>0.0</td>\n",
       "      <td>3.4</td>\n",
       "      <td>0.0</td>\n",
       "      <td>0</td>\n",
       "      <td>1.62</td>\n",
       "    </tr>\n",
       "    <tr>\n",
       "      <th>2</th>\n",
       "      <td>NaN</td>\n",
       "      <td>3</td>\n",
       "      <td>324.0</td>\n",
       "      <td>170.7</td>\n",
       "      <td>18.5</td>\n",
       "      <td>0.0</td>\n",
       "      <td>4</td>\n",
       "      <td>110</td>\n",
       "      <td>5950</td>\n",
       "      <td>1190</td>\n",
       "      <td>0.0</td>\n",
       "      <td>21.3</td>\n",
       "      <td>0.0</td>\n",
       "      <td>4</td>\n",
       "      <td>1.68</td>\n",
       "    </tr>\n",
       "    <tr>\n",
       "      <th>3</th>\n",
       "      <td>NaN</td>\n",
       "      <td>4</td>\n",
       "      <td>324.0</td>\n",
       "      <td>223.9</td>\n",
       "      <td>18.9</td>\n",
       "      <td>0.0</td>\n",
       "      <td>3</td>\n",
       "      <td>110</td>\n",
       "      <td>6150</td>\n",
       "      <td>1340</td>\n",
       "      <td>0.0</td>\n",
       "      <td>21.3</td>\n",
       "      <td>0.0</td>\n",
       "      <td>5</td>\n",
       "      <td>1.78</td>\n",
       "    </tr>\n",
       "    <tr>\n",
       "      <th>4</th>\n",
       "      <td>NaN</td>\n",
       "      <td>5</td>\n",
       "      <td>324.0</td>\n",
       "      <td>228.2</td>\n",
       "      <td>18.4</td>\n",
       "      <td>0.0</td>\n",
       "      <td>2</td>\n",
       "      <td>113</td>\n",
       "      <td>6340</td>\n",
       "      <td>1450</td>\n",
       "      <td>0.0</td>\n",
       "      <td>23.9</td>\n",
       "      <td>0.0</td>\n",
       "      <td>7</td>\n",
       "      <td>1.80</td>\n",
       "    </tr>\n",
       "  </tbody>\n",
       "</table>\n",
       "</div>"
      ],
      "text/plain": [
       "  Unnamed: 0  year  Para-1  Para-2  Para-3  Para-4  Para-5  Para-6  Para-7  \\\n",
       "0      Sec_1     1   324.0   354.5    17.0     0.0       3     117    2600   \n",
       "1        NaN     2   324.0   161.1    18.2     0.0       4     106    5950   \n",
       "2        NaN     3   324.0   170.7    18.5     0.0       4     110    5950   \n",
       "3        NaN     4   324.0   223.9    18.9     0.0       3     110    6150   \n",
       "4        NaN     5   324.0   228.2    18.4     0.0       2     113    6340   \n",
       "\n",
       "   Para-8  Para-9  Para-10  Para-11  Para-12  Para-13  \n",
       "0     400     0.0      0.0      0.0        0     1.52  \n",
       "1    1190     0.0      3.4      0.0        0     1.62  \n",
       "2    1190     0.0     21.3      0.0        4     1.68  \n",
       "3    1340     0.0     21.3      0.0        5     1.78  \n",
       "4    1450     0.0     23.9      0.0        7     1.80  "
      ]
     },
     "execution_count": 3,
     "metadata": {},
     "output_type": "execute_result"
    }
   ],
   "source": [
    "df.head()"
   ]
  },
  {
   "cell_type": "code",
   "execution_count": 4,
   "metadata": {
    "colab": {
     "base_uri": "https://localhost:8080/",
     "height": 206
    },
    "id": "KQ4vZQOtp-vc",
    "outputId": "6f9ed849-fd42-4003-b9bf-95d4437d5089"
   },
   "outputs": [
    {
     "data": {
      "text/html": [
       "<div>\n",
       "<style scoped>\n",
       "    .dataframe tbody tr th:only-of-type {\n",
       "        vertical-align: middle;\n",
       "    }\n",
       "\n",
       "    .dataframe tbody tr th {\n",
       "        vertical-align: top;\n",
       "    }\n",
       "\n",
       "    .dataframe thead th {\n",
       "        text-align: right;\n",
       "    }\n",
       "</style>\n",
       "<table border=\"1\" class=\"dataframe\">\n",
       "  <thead>\n",
       "    <tr style=\"text-align: right;\">\n",
       "      <th></th>\n",
       "      <th>Unnamed: 0</th>\n",
       "      <th>year</th>\n",
       "      <th>Para-1</th>\n",
       "      <th>Para-2</th>\n",
       "      <th>Para-3</th>\n",
       "      <th>Para-4</th>\n",
       "      <th>Para-5</th>\n",
       "      <th>Para-6</th>\n",
       "      <th>Para-7</th>\n",
       "      <th>Para-8</th>\n",
       "      <th>Para-9</th>\n",
       "      <th>Para-10</th>\n",
       "      <th>Para-11</th>\n",
       "      <th>Para-12</th>\n",
       "      <th>Para-13</th>\n",
       "    </tr>\n",
       "  </thead>\n",
       "  <tbody>\n",
       "    <tr>\n",
       "      <th>0</th>\n",
       "      <td>Sec_1</td>\n",
       "      <td>1</td>\n",
       "      <td>324.0</td>\n",
       "      <td>354.5</td>\n",
       "      <td>17.0</td>\n",
       "      <td>0.0</td>\n",
       "      <td>3</td>\n",
       "      <td>117</td>\n",
       "      <td>2600</td>\n",
       "      <td>400</td>\n",
       "      <td>0.0</td>\n",
       "      <td>0.0</td>\n",
       "      <td>0.0</td>\n",
       "      <td>0</td>\n",
       "      <td>1.52</td>\n",
       "    </tr>\n",
       "    <tr>\n",
       "      <th>1</th>\n",
       "      <td>Sec_1</td>\n",
       "      <td>2</td>\n",
       "      <td>324.0</td>\n",
       "      <td>161.1</td>\n",
       "      <td>18.2</td>\n",
       "      <td>0.0</td>\n",
       "      <td>4</td>\n",
       "      <td>106</td>\n",
       "      <td>5950</td>\n",
       "      <td>1190</td>\n",
       "      <td>0.0</td>\n",
       "      <td>3.4</td>\n",
       "      <td>0.0</td>\n",
       "      <td>0</td>\n",
       "      <td>1.62</td>\n",
       "    </tr>\n",
       "    <tr>\n",
       "      <th>2</th>\n",
       "      <td>Sec_1</td>\n",
       "      <td>3</td>\n",
       "      <td>324.0</td>\n",
       "      <td>170.7</td>\n",
       "      <td>18.5</td>\n",
       "      <td>0.0</td>\n",
       "      <td>4</td>\n",
       "      <td>110</td>\n",
       "      <td>5950</td>\n",
       "      <td>1190</td>\n",
       "      <td>0.0</td>\n",
       "      <td>21.3</td>\n",
       "      <td>0.0</td>\n",
       "      <td>4</td>\n",
       "      <td>1.68</td>\n",
       "    </tr>\n",
       "    <tr>\n",
       "      <th>3</th>\n",
       "      <td>Sec_1</td>\n",
       "      <td>4</td>\n",
       "      <td>324.0</td>\n",
       "      <td>223.9</td>\n",
       "      <td>18.9</td>\n",
       "      <td>0.0</td>\n",
       "      <td>3</td>\n",
       "      <td>110</td>\n",
       "      <td>6150</td>\n",
       "      <td>1340</td>\n",
       "      <td>0.0</td>\n",
       "      <td>21.3</td>\n",
       "      <td>0.0</td>\n",
       "      <td>5</td>\n",
       "      <td>1.78</td>\n",
       "    </tr>\n",
       "    <tr>\n",
       "      <th>4</th>\n",
       "      <td>Sec_1</td>\n",
       "      <td>5</td>\n",
       "      <td>324.0</td>\n",
       "      <td>228.2</td>\n",
       "      <td>18.4</td>\n",
       "      <td>0.0</td>\n",
       "      <td>2</td>\n",
       "      <td>113</td>\n",
       "      <td>6340</td>\n",
       "      <td>1450</td>\n",
       "      <td>0.0</td>\n",
       "      <td>23.9</td>\n",
       "      <td>0.0</td>\n",
       "      <td>7</td>\n",
       "      <td>1.80</td>\n",
       "    </tr>\n",
       "  </tbody>\n",
       "</table>\n",
       "</div>"
      ],
      "text/plain": [
       "  Unnamed: 0  year  Para-1  Para-2  Para-3  Para-4  Para-5  Para-6  Para-7  \\\n",
       "0      Sec_1     1   324.0   354.5    17.0     0.0       3     117    2600   \n",
       "1      Sec_1     2   324.0   161.1    18.2     0.0       4     106    5950   \n",
       "2      Sec_1     3   324.0   170.7    18.5     0.0       4     110    5950   \n",
       "3      Sec_1     4   324.0   223.9    18.9     0.0       3     110    6150   \n",
       "4      Sec_1     5   324.0   228.2    18.4     0.0       2     113    6340   \n",
       "\n",
       "   Para-8  Para-9  Para-10  Para-11  Para-12  Para-13  \n",
       "0     400     0.0      0.0      0.0        0     1.52  \n",
       "1    1190     0.0      3.4      0.0        0     1.62  \n",
       "2    1190     0.0     21.3      0.0        4     1.68  \n",
       "3    1340     0.0     21.3      0.0        5     1.78  \n",
       "4    1450     0.0     23.9      0.0        7     1.80  "
      ]
     },
     "execution_count": 4,
     "metadata": {},
     "output_type": "execute_result"
    }
   ],
   "source": [
    "df = df.drop([910, 911, 912, 913, 914, 915, 916, 917, 918])\n",
    "df.fillna(0, inplace=True)\n",
    "\n",
    "col = 0\n",
    "for row in range(100):\n",
    "  df.iloc[col:col + 10, 0] = df.iloc[col, 0]\n",
    "  col = col + 10\n",
    "df.head()"
   ]
  },
  {
   "cell_type": "code",
   "execution_count": 5,
   "metadata": {
    "colab": {
     "base_uri": "https://localhost:8080/",
     "height": 424
    },
    "id": "UbGjpGi-qe-T",
    "outputId": "d16d3695-94a2-4105-aeb4-f1af54faf98a"
   },
   "outputs": [
    {
     "data": {
      "text/html": [
       "<div>\n",
       "<style scoped>\n",
       "    .dataframe tbody tr th:only-of-type {\n",
       "        vertical-align: middle;\n",
       "    }\n",
       "\n",
       "    .dataframe tbody tr th {\n",
       "        vertical-align: top;\n",
       "    }\n",
       "\n",
       "    .dataframe thead th {\n",
       "        text-align: right;\n",
       "    }\n",
       "</style>\n",
       "<table border=\"1\" class=\"dataframe\">\n",
       "  <thead>\n",
       "    <tr style=\"text-align: right;\">\n",
       "      <th></th>\n",
       "      <th>Unnamed: 0</th>\n",
       "      <th>year</th>\n",
       "      <th>Para-1</th>\n",
       "      <th>Para-2</th>\n",
       "      <th>Para-3</th>\n",
       "      <th>Para-4</th>\n",
       "      <th>Para-5</th>\n",
       "      <th>Para-6</th>\n",
       "      <th>Para-7</th>\n",
       "      <th>Para-8</th>\n",
       "      <th>Para-9</th>\n",
       "      <th>Para-10</th>\n",
       "      <th>Para-11</th>\n",
       "      <th>Para-12</th>\n",
       "      <th>Para-13</th>\n",
       "    </tr>\n",
       "  </thead>\n",
       "  <tbody>\n",
       "    <tr>\n",
       "      <th>9</th>\n",
       "      <td>Sec_1</td>\n",
       "      <td>10</td>\n",
       "      <td>324.0</td>\n",
       "      <td>53.6</td>\n",
       "      <td>19.0</td>\n",
       "      <td>0.0</td>\n",
       "      <td>2</td>\n",
       "      <td>105</td>\n",
       "      <td>7567</td>\n",
       "      <td>1885</td>\n",
       "      <td>16.8</td>\n",
       "      <td>105.0</td>\n",
       "      <td>65.0</td>\n",
       "      <td>9</td>\n",
       "      <td>1.960</td>\n",
       "    </tr>\n",
       "    <tr>\n",
       "      <th>19</th>\n",
       "      <td>Sec_2</td>\n",
       "      <td>10</td>\n",
       "      <td>327.7</td>\n",
       "      <td>62.0</td>\n",
       "      <td>22.7</td>\n",
       "      <td>0.0</td>\n",
       "      <td>2</td>\n",
       "      <td>102</td>\n",
       "      <td>30525</td>\n",
       "      <td>10234</td>\n",
       "      <td>76.5</td>\n",
       "      <td>44.3</td>\n",
       "      <td>5.0</td>\n",
       "      <td>9</td>\n",
       "      <td>0.795</td>\n",
       "    </tr>\n",
       "    <tr>\n",
       "      <th>29</th>\n",
       "      <td>Sec_3</td>\n",
       "      <td>10</td>\n",
       "      <td>487.7</td>\n",
       "      <td>93.2</td>\n",
       "      <td>22.5</td>\n",
       "      <td>0.0</td>\n",
       "      <td>4</td>\n",
       "      <td>110</td>\n",
       "      <td>2140</td>\n",
       "      <td>1270</td>\n",
       "      <td>78.5</td>\n",
       "      <td>0.0</td>\n",
       "      <td>0.0</td>\n",
       "      <td>16</td>\n",
       "      <td>1.432</td>\n",
       "    </tr>\n",
       "    <tr>\n",
       "      <th>39</th>\n",
       "      <td>Sec_4</td>\n",
       "      <td>10</td>\n",
       "      <td>543.6</td>\n",
       "      <td>93.2</td>\n",
       "      <td>22.5</td>\n",
       "      <td>0.0</td>\n",
       "      <td>4</td>\n",
       "      <td>110</td>\n",
       "      <td>2140</td>\n",
       "      <td>1270</td>\n",
       "      <td>28.5</td>\n",
       "      <td>60.5</td>\n",
       "      <td>67.0</td>\n",
       "      <td>11</td>\n",
       "      <td>2.004</td>\n",
       "    </tr>\n",
       "    <tr>\n",
       "      <th>49</th>\n",
       "      <td>Sec_5</td>\n",
       "      <td>10</td>\n",
       "      <td>434.4</td>\n",
       "      <td>149.0</td>\n",
       "      <td>11.7</td>\n",
       "      <td>72.0</td>\n",
       "      <td>3</td>\n",
       "      <td>110</td>\n",
       "      <td>13142</td>\n",
       "      <td>6225</td>\n",
       "      <td>0.0</td>\n",
       "      <td>276.2</td>\n",
       "      <td>34.0</td>\n",
       "      <td>6</td>\n",
       "      <td>1.792</td>\n",
       "    </tr>\n",
       "    <tr>\n",
       "      <th>...</th>\n",
       "      <td>...</td>\n",
       "      <td>...</td>\n",
       "      <td>...</td>\n",
       "      <td>...</td>\n",
       "      <td>...</td>\n",
       "      <td>...</td>\n",
       "      <td>...</td>\n",
       "      <td>...</td>\n",
       "      <td>...</td>\n",
       "      <td>...</td>\n",
       "      <td>...</td>\n",
       "      <td>...</td>\n",
       "      <td>...</td>\n",
       "      <td>...</td>\n",
       "      <td>...</td>\n",
       "    </tr>\n",
       "    <tr>\n",
       "      <th>968</th>\n",
       "      <td>Sec_97</td>\n",
       "      <td>10</td>\n",
       "      <td>514.0</td>\n",
       "      <td>1226.4</td>\n",
       "      <td>10.1</td>\n",
       "      <td>203.6</td>\n",
       "      <td>16</td>\n",
       "      <td>114</td>\n",
       "      <td>7672</td>\n",
       "      <td>303</td>\n",
       "      <td>219.7</td>\n",
       "      <td>206.2</td>\n",
       "      <td>10.0</td>\n",
       "      <td>8</td>\n",
       "      <td>1.607</td>\n",
       "    </tr>\n",
       "    <tr>\n",
       "      <th>978</th>\n",
       "      <td>Sec_98</td>\n",
       "      <td>10</td>\n",
       "      <td>901.0</td>\n",
       "      <td>1531.0</td>\n",
       "      <td>11.1</td>\n",
       "      <td>34.9</td>\n",
       "      <td>40</td>\n",
       "      <td>100</td>\n",
       "      <td>15150</td>\n",
       "      <td>1077</td>\n",
       "      <td>5.9</td>\n",
       "      <td>74.5</td>\n",
       "      <td>33.0</td>\n",
       "      <td>13</td>\n",
       "      <td>1.087</td>\n",
       "    </tr>\n",
       "    <tr>\n",
       "      <th>988</th>\n",
       "      <td>Sec_99</td>\n",
       "      <td>10</td>\n",
       "      <td>1181.0</td>\n",
       "      <td>1364.9</td>\n",
       "      <td>9.2</td>\n",
       "      <td>274.3</td>\n",
       "      <td>24</td>\n",
       "      <td>112</td>\n",
       "      <td>12500</td>\n",
       "      <td>880</td>\n",
       "      <td>131.4</td>\n",
       "      <td>72.4</td>\n",
       "      <td>18.0</td>\n",
       "      <td>12</td>\n",
       "      <td>0.996</td>\n",
       "    </tr>\n",
       "    <tr>\n",
       "      <th>998</th>\n",
       "      <td>Sec_100</td>\n",
       "      <td>10</td>\n",
       "      <td>662.0</td>\n",
       "      <td>1110.7</td>\n",
       "      <td>12.8</td>\n",
       "      <td>33.2</td>\n",
       "      <td>27</td>\n",
       "      <td>117</td>\n",
       "      <td>3324</td>\n",
       "      <td>1356</td>\n",
       "      <td>193.7</td>\n",
       "      <td>305.6</td>\n",
       "      <td>180.0</td>\n",
       "      <td>12</td>\n",
       "      <td>2.212</td>\n",
       "    </tr>\n",
       "    <tr>\n",
       "      <th>1008</th>\n",
       "      <td>Sec_101</td>\n",
       "      <td>10</td>\n",
       "      <td>454.0</td>\n",
       "      <td>986.3</td>\n",
       "      <td>14.3</td>\n",
       "      <td>67.0</td>\n",
       "      <td>24</td>\n",
       "      <td>122</td>\n",
       "      <td>4415</td>\n",
       "      <td>721</td>\n",
       "      <td>293.0</td>\n",
       "      <td>39.8</td>\n",
       "      <td>7.0</td>\n",
       "      <td>18</td>\n",
       "      <td>1.889</td>\n",
       "    </tr>\n",
       "  </tbody>\n",
       "</table>\n",
       "<p>100 rows × 15 columns</p>\n",
       "</div>"
      ],
      "text/plain": [
       "     Unnamed: 0  year  Para-1  Para-2  Para-3  Para-4  Para-5  Para-6  Para-7  \\\n",
       "9         Sec_1    10   324.0    53.6    19.0     0.0       2     105    7567   \n",
       "19        Sec_2    10   327.7    62.0    22.7     0.0       2     102   30525   \n",
       "29        Sec_3    10   487.7    93.2    22.5     0.0       4     110    2140   \n",
       "39        Sec_4    10   543.6    93.2    22.5     0.0       4     110    2140   \n",
       "49        Sec_5    10   434.4   149.0    11.7    72.0       3     110   13142   \n",
       "...         ...   ...     ...     ...     ...     ...     ...     ...     ...   \n",
       "968      Sec_97    10   514.0  1226.4    10.1   203.6      16     114    7672   \n",
       "978      Sec_98    10   901.0  1531.0    11.1    34.9      40     100   15150   \n",
       "988      Sec_99    10  1181.0  1364.9     9.2   274.3      24     112   12500   \n",
       "998     Sec_100    10   662.0  1110.7    12.8    33.2      27     117    3324   \n",
       "1008    Sec_101    10   454.0   986.3    14.3    67.0      24     122    4415   \n",
       "\n",
       "      Para-8  Para-9  Para-10  Para-11  Para-12  Para-13  \n",
       "9       1885    16.8    105.0     65.0        9    1.960  \n",
       "19     10234    76.5     44.3      5.0        9    0.795  \n",
       "29      1270    78.5      0.0      0.0       16    1.432  \n",
       "39      1270    28.5     60.5     67.0       11    2.004  \n",
       "49      6225     0.0    276.2     34.0        6    1.792  \n",
       "...      ...     ...      ...      ...      ...      ...  \n",
       "968      303   219.7    206.2     10.0        8    1.607  \n",
       "978     1077     5.9     74.5     33.0       13    1.087  \n",
       "988      880   131.4     72.4     18.0       12    0.996  \n",
       "998     1356   193.7    305.6    180.0       12    2.212  \n",
       "1008     721   293.0     39.8      7.0       18    1.889  \n",
       "\n",
       "[100 rows x 15 columns]"
      ]
     },
     "execution_count": 5,
     "metadata": {},
     "output_type": "execute_result"
    }
   ],
   "source": [
    "test_df = df.loc[df['year'] == 10]\n",
    "test_df"
   ]
  },
  {
   "cell_type": "code",
   "execution_count": 6,
   "metadata": {
    "colab": {
     "base_uri": "https://localhost:8080/",
     "height": 293
    },
    "id": "ZbaGeu2VqlZS",
    "outputId": "5792eca1-94d4-43ba-9edd-cfb4fce29f2e"
   },
   "outputs": [
    {
     "name": "stderr",
     "output_type": "stream",
     "text": [
      "<ipython-input-6-a3afb6e3841e>:2: SettingWithCopyWarning: \n",
      "A value is trying to be set on a copy of a slice from a DataFrame\n",
      "\n",
      "See the caveats in the documentation: https://pandas.pydata.org/pandas-docs/stable/user_guide/indexing.html#returning-a-view-versus-a-copy\n",
      "  test_df.rename(columns={'Unnamed: 0': 'Group'},inplace = True)\n"
     ]
    }
   ],
   "source": [
    "df.rename(columns={'Unnamed: 0': 'Group'},inplace = True)\n",
    "test_df.rename(columns={'Unnamed: 0': 'Group'},inplace = True)"
   ]
  },
  {
   "cell_type": "code",
   "execution_count": 7,
   "metadata": {
    "id": "GHEobQ7IrALT"
   },
   "outputs": [],
   "source": [
    "predicted = {'Para-9': [], 'Para-10': [], 'Para-11': [], 'Para-12': [], 'Para-13': []}\n",
    "headers = ['Para-9', 'Para-10', 'Para-11', 'Para-12', 'Para-13']"
   ]
  },
  {
   "cell_type": "code",
   "execution_count": 8,
   "metadata": {
    "id": "DTAZOWMCrQyM"
   },
   "outputs": [],
   "source": [
    "from sklearn.ensemble import RandomForestRegressor"
   ]
  },
  {
   "cell_type": "code",
   "execution_count": 9,
   "metadata": {
    "id": "YqtHU4PqrkNb"
   },
   "outputs": [],
   "source": [
    "regressor = RandomForestRegressor(n_estimators=10)"
   ]
  },
  {
   "cell_type": "code",
   "execution_count": 10,
   "metadata": {
    "id": "qTY1pQ_Ds8lX"
   },
   "outputs": [],
   "source": [
    "import math"
   ]
  },
  {
   "cell_type": "code",
   "execution_count": 11,
   "metadata": {
    "colab": {
     "base_uri": "https://localhost:8080/"
    },
    "id": "84jqDdTfrlUN",
    "outputId": "60e05122-0793-4fdb-b18d-9543bb836f90"
   },
   "outputs": [],
   "source": [
    "rmse = []\n",
    "n = 0\n",
    "ind = 0\n",
    "for col in [10, 11, 12, 13, 14]:\n",
    "  res = 0\n",
    "  count = 0\n",
    "  for row in range(0, 1000, 10):\n",
    "    x_train = df.iloc[row:row+9, 1:10]\n",
    "    y_train = df.iloc[row:row+9, col]\n",
    "    x_test = df.iloc[row+9, 1:10].to_numpy()\n",
    "    y_test = df.iloc[row+9, col]\n",
    "    regressor.fit(x_train, y_train)\n",
    "    ypred = regressor.predict(x_test.reshape(1,-1))[0]\n",
    "    predicted[headers[ind]].append(ypred)\n",
    "    res += (y_test - ypred)**2\n",
    "    count += 1\n",
    "    n += 1\n",
    "  rmse.append((res/count)**0.5)\n",
    "  ind += 1"
   ]
  },
  {
   "cell_type": "code",
   "execution_count": 12,
   "metadata": {
    "colab": {
     "base_uri": "https://localhost:8080/"
    },
    "id": "DZEnitj4tWtD",
    "outputId": "ba853630-86a9-4348-e8e5-b1c427695c48"
   },
   "outputs": [
    {
     "data": {
      "text/plain": [
       "[70.11284278796573,\n",
       " 68.75075894853815,\n",
       " 28.058650377379173,\n",
       " 14.572559830036726,\n",
       " 0.522312102027131]"
      ]
     },
     "execution_count": 12,
     "metadata": {},
     "output_type": "execute_result"
    }
   ],
   "source": [
    "rmse"
   ]
  },
  {
   "cell_type": "code",
   "execution_count": 13,
   "metadata": {
    "colab": {
     "base_uri": "https://localhost:8080/",
     "height": 424
    },
    "id": "id0FG6l3txqU",
    "outputId": "79a4238c-ab8e-499e-8a3b-ae0d206cd89c"
   },
   "outputs": [
    {
     "data": {
      "text/html": [
       "<div>\n",
       "<style scoped>\n",
       "    .dataframe tbody tr th:only-of-type {\n",
       "        vertical-align: middle;\n",
       "    }\n",
       "\n",
       "    .dataframe tbody tr th {\n",
       "        vertical-align: top;\n",
       "    }\n",
       "\n",
       "    .dataframe thead th {\n",
       "        text-align: right;\n",
       "    }\n",
       "</style>\n",
       "<table border=\"1\" class=\"dataframe\">\n",
       "  <thead>\n",
       "    <tr style=\"text-align: right;\">\n",
       "      <th></th>\n",
       "      <th>Para-9</th>\n",
       "      <th>Para-10</th>\n",
       "      <th>Para-11</th>\n",
       "      <th>Para-12</th>\n",
       "      <th>Para-13</th>\n",
       "    </tr>\n",
       "  </thead>\n",
       "  <tbody>\n",
       "    <tr>\n",
       "      <th>0</th>\n",
       "      <td>2.56</td>\n",
       "      <td>52.22</td>\n",
       "      <td>34.2</td>\n",
       "      <td>7.2</td>\n",
       "      <td>1.91100</td>\n",
       "    </tr>\n",
       "    <tr>\n",
       "      <th>1</th>\n",
       "      <td>58.19</td>\n",
       "      <td>27.32</td>\n",
       "      <td>0.9</td>\n",
       "      <td>7.6</td>\n",
       "      <td>0.79250</td>\n",
       "    </tr>\n",
       "    <tr>\n",
       "      <th>2</th>\n",
       "      <td>65.84</td>\n",
       "      <td>0.00</td>\n",
       "      <td>0.0</td>\n",
       "      <td>9.8</td>\n",
       "      <td>1.33370</td>\n",
       "    </tr>\n",
       "    <tr>\n",
       "      <th>3</th>\n",
       "      <td>13.89</td>\n",
       "      <td>47.86</td>\n",
       "      <td>57.2</td>\n",
       "      <td>6.1</td>\n",
       "      <td>1.85700</td>\n",
       "    </tr>\n",
       "    <tr>\n",
       "      <th>4</th>\n",
       "      <td>0.00</td>\n",
       "      <td>236.14</td>\n",
       "      <td>33.7</td>\n",
       "      <td>6.0</td>\n",
       "      <td>1.61680</td>\n",
       "    </tr>\n",
       "    <tr>\n",
       "      <th>...</th>\n",
       "      <td>...</td>\n",
       "      <td>...</td>\n",
       "      <td>...</td>\n",
       "      <td>...</td>\n",
       "      <td>...</td>\n",
       "    </tr>\n",
       "    <tr>\n",
       "      <th>95</th>\n",
       "      <td>140.29</td>\n",
       "      <td>169.51</td>\n",
       "      <td>9.3</td>\n",
       "      <td>7.3</td>\n",
       "      <td>1.53660</td>\n",
       "    </tr>\n",
       "    <tr>\n",
       "      <th>96</th>\n",
       "      <td>5.04</td>\n",
       "      <td>56.53</td>\n",
       "      <td>20.9</td>\n",
       "      <td>12.0</td>\n",
       "      <td>1.07178</td>\n",
       "    </tr>\n",
       "    <tr>\n",
       "      <th>97</th>\n",
       "      <td>95.83</td>\n",
       "      <td>63.39</td>\n",
       "      <td>11.8</td>\n",
       "      <td>10.3</td>\n",
       "      <td>0.82090</td>\n",
       "    </tr>\n",
       "    <tr>\n",
       "      <th>98</th>\n",
       "      <td>119.33</td>\n",
       "      <td>273.68</td>\n",
       "      <td>138.2</td>\n",
       "      <td>10.3</td>\n",
       "      <td>2.02670</td>\n",
       "    </tr>\n",
       "    <tr>\n",
       "      <th>99</th>\n",
       "      <td>89.60</td>\n",
       "      <td>15.53</td>\n",
       "      <td>2.5</td>\n",
       "      <td>14.1</td>\n",
       "      <td>1.80070</td>\n",
       "    </tr>\n",
       "  </tbody>\n",
       "</table>\n",
       "<p>100 rows × 5 columns</p>\n",
       "</div>"
      ],
      "text/plain": [
       "    Para-9  Para-10  Para-11  Para-12  Para-13\n",
       "0     2.56    52.22     34.2      7.2  1.91100\n",
       "1    58.19    27.32      0.9      7.6  0.79250\n",
       "2    65.84     0.00      0.0      9.8  1.33370\n",
       "3    13.89    47.86     57.2      6.1  1.85700\n",
       "4     0.00   236.14     33.7      6.0  1.61680\n",
       "..     ...      ...      ...      ...      ...\n",
       "95  140.29   169.51      9.3      7.3  1.53660\n",
       "96    5.04    56.53     20.9     12.0  1.07178\n",
       "97   95.83    63.39     11.8     10.3  0.82090\n",
       "98  119.33   273.68    138.2     10.3  2.02670\n",
       "99   89.60    15.53      2.5     14.1  1.80070\n",
       "\n",
       "[100 rows x 5 columns]"
      ]
     },
     "execution_count": 13,
     "metadata": {},
     "output_type": "execute_result"
    }
   ],
   "source": [
    "df_pred = pd.DataFrame.from_dict(predicted)\n",
    "df_pred"
   ]
  },
  {
   "cell_type": "code",
   "execution_count": 14,
   "metadata": {
    "id": "Ef5wySPpt9my"
   },
   "outputs": [],
   "source": [
    "import random\n",
    "generator = []\n",
    "for i in range(25):\n",
    "  generator.append(random.randint(0,100))"
   ]
  },
  {
   "cell_type": "code",
   "execution_count": 15,
   "metadata": {
    "colab": {
     "base_uri": "https://localhost:8080/",
     "height": 1000
    },
    "id": "eb7odAs3wdRa",
    "outputId": "51261446-322e-49b2-ad72-e8a79fcebc21"
   },
   "outputs": [
    {
     "data": {
      "image/png": "[encoded data removed]",
      "text/plain": [
       "<Figure size 360x360 with 1 Axes>"
      ]
     },
     "metadata": {
      "needs_background": "light"
     },
     "output_type": "display_data"
    },
    {
     "data": {
      "image/png": "[encoded data removed]",
      "text/plain": [
       "<Figure size 360x360 with 1 Axes>"
      ]
     },
     "metadata": {
      "needs_background": "light"
     },
     "output_type": "display_data"
    },
    {
     "data": {
      "image/png": "[encoded data removed]",
      "text/plain": [
       "<Figure size 360x360 with 1 Axes>"
      ]
     },
     "metadata": {
      "needs_background": "light"
     },
     "output_type": "display_data"
    },
    {
     "data": {
      "image/png": "[encoded data removed]",
      "text/plain": [
       "<Figure size 360x360 with 1 Axes>"
      ]
     },
     "metadata": {
      "needs_background": "light"
     },
     "output_type": "display_data"
    },
    {
     "data": {
      "image/png": "[encoded data removed]",
      "text/plain": [
       "<Figure size 360x360 with 1 Axes>"
      ]
     },
     "metadata": {
      "needs_background": "light"
     },
     "output_type": "display_data"
    }
   ],
   "source": [
    "for i in range(5):\n",
    "  plt.figure(figsize=(5, 5))\n",
    "  true_value = df_pred.iloc[generator, i]\n",
    "  predicted_value = test_df.iloc[generator, i + 10]\n",
    "  plt.scatter(true_value, predicted_value, c='blue')\n",
    "\n",
    "  p1 = max(max(predicted_value), max(true_value))\n",
    "  p2 = min(min(predicted_value), min(true_value))\n",
    "  plt.plot([p1, p2], [p1, p2], 'b-')\n",
    "  plt.title(headers[i])\n",
    "  plt.xlabel('True', fontsize=18)\n",
    "  plt.ylabel('Predicted', fontsize=18)\n",
    "  plt.axis('equal')\n",
    "  plt.show()"
   ]
  },
  {
   "cell_type": "code",
   "execution_count": 16,
   "metadata": {
    "colab": {
     "base_uri": "https://localhost:8080/",
     "height": 1000
    },
    "id": "7G6ayRm4wiyh",
    "outputId": "338c3b0b-b84d-481b-9eb1-fc9580f11cb4"
   },
   "outputs": [
    {
     "data": {
      "image/png": "[encoded data removed]",
      "text/plain": [
       "<Figure size 360x360 with 1 Axes>"
      ]
     },
     "metadata": {
      "needs_background": "light"
     },
     "output_type": "display_data"
    },
    {
     "data": {
      "image/png": "[encoded data removed]",
      "text/plain": [
       "<Figure size 360x360 with 1 Axes>"
      ]
     },
     "metadata": {
      "needs_background": "light"
     },
     "output_type": "display_data"
    },
    {
     "data": {
      "image/png": "[encoded data removed]",
      "text/plain": [
       "<Figure size 360x360 with 1 Axes>"
      ]
     },
     "metadata": {
      "needs_background": "light"
     },
     "output_type": "display_data"
    },
    {
     "data": {
      "image/png": "[encoded data removed]",
      "text/plain": [
       "<Figure size 360x360 with 1 Axes>"
      ]
     },
     "metadata": {
      "needs_background": "light"
     },
     "output_type": "display_data"
    },
    {
     "data": {
      "image/png": "[encoded data removed]",
      "text/plain": [
       "<Figure size 360x360 with 1 Axes>"
      ]
     },
     "metadata": {
      "needs_background": "light"
     },
     "output_type": "display_data"
    }
   ],
   "source": [
    "for i in range(5):\n",
    "  plt.figure(figsize=(5, 5))\n",
    "  true_value = df_pred.iloc[:, i]\n",
    "  predicted_value = test_df.iloc[:, i + 10]\n",
    "  plt.scatter(true_value, predicted_value, c='gray')\n",
    "\n",
    "  p1 = max(max(predicted_value), max(true_value))\n",
    "  p2 = min(min(predicted_value), min(true_value))\n",
    "  plt.plot([p1, p2], [p1, p2], 'b-')\n",
    "  plt.title(headers[i])\n",
    "  plt.xlabel('True', fontsize=18)\n",
    "  plt.ylabel('Predicted', fontsize=18)\n",
    "  plt.axis('equal')\n",
    "  plt.show()"
   ]
  },
  {
   "cell_type": "code",
   "execution_count": null,
   "metadata": {
    "id": "22RC6kuawoGq"
   },
   "outputs": [],
   "source": []
  }
 ],
 "metadata": {
  "colab": {
   "collapsed_sections": [],
   "provenance": []
  },
  "kernelspec": {
   "display_name": "Python 3",
   "language": "python",
   "name": "python3"
  },
  "language_info": {
   "codemirror_mode": {
    "name": "ipython",
    "version": 3
   },
   "file_extension": ".py",
   "mimetype": "text/x-python",
   "name": "python",
   "nbconvert_exporter": "python",
   "pygments_lexer": "ipython3",
   "version": "3.8.8"
  }
 },
 "nbformat": 4,
 "nbformat_minor": 1
}
